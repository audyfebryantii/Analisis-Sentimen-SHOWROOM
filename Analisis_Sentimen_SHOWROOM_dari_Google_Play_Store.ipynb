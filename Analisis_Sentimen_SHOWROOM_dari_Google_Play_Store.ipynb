{
  "nbformat": 4,
  "nbformat_minor": 0,
  "metadata": {
    "colab": {
      "provenance": []
    },
    "kernelspec": {
      "name": "python3",
      "display_name": "Python 3"
    },
    "language_info": {
      "name": "python"
    }
  },
  "cells": [
    {
      "cell_type": "markdown",
      "source": [
        "\n",
        "# Analisis Sentimen SHOWROOM dari Google Play Store\n",
        "---\n",
        "SHOWROOM adalah sebuah aplikasi streaming langsung yang berasal dari Jepang dan cukup sering digunakan di Indonesia. Aplikasi ini memungkinkan pengguna untuk melakukan streaming langsung dari penampilan mereka dan menonton pertunjukan langsung yang dilakukan oleh idola, pengisi suara, dan karakter anime. Tidak hanya idola Jepang terkenal yang dapat ditemui di TV atau media sosial, tetapi juga orang biasa dan artis yang tengah populer di berbagai negara.\n",
        "\n",
        "Dalam melakukan penilaian terhadap aplikasi SHOWROOM, para pengguna biasanya menuliskan review melalui Google Play Store. Namun review pada aplikasi tersebut hanya berupa teks tanpa arti tertentu dan terdapat beberapa pengguna yang memberikan rating yang tidak sesuai dengan bintang yang diberikan. Oleh karena itu dilakukan analisis yang dapat mengklasifikasikan review sebagai sentimen pengguna.\n",
        "\n",
        "Referensi:\n",
        "1. [Analisis Sentimen Ulasan MyXL dengan SVM](https://www.kaggle.com/code/dimasdiandraa/analisis-sentimen-ulasan-myxl-dengan-svm/notebook#Hasil-Klasifikasi)\n",
        "2. Hands On Text Classification\n"
      ],
      "metadata": {
        "id": "bGoDc_lQYTqb"
      }
    },
    {
      "cell_type": "markdown",
      "source": [
        "## Scraping Data\n",
        "\n"
      ],
      "metadata": {
        "id": "gWQY3THWkJjS"
      }
    },
    {
      "cell_type": "markdown",
      "source": [
        "Scraping data dilakukan dengan mengumpukan data ulasan pengguna SHOWROOM dari Google Play Store menggunakan bantuan dari library google-play-scraper dan IDE Google Collab. Data yang diambil berupa nama pemberi ulasan, nilai bintang yang diberikan, waktu ulasan dikirim dan isi review ulasan."
      ],
      "metadata": {
        "id": "j4_-eWJvkRE5"
      }
    },
    {
      "cell_type": "code",
      "source": [
        "!pip install google-play-scraper"
      ],
      "metadata": {
        "id": "5eCDzbflkUbV"
      },
      "execution_count": null,
      "outputs": []
    },
    {
      "cell_type": "code",
      "source": [
        "from google_play_scraper import app\n",
        "from google_play_scraper import Sort, reviews"
      ],
      "metadata": {
        "id": "ULdrzkhqkXK-"
      },
      "execution_count": null,
      "outputs": []
    },
    {
      "cell_type": "code",
      "execution_count": null,
      "metadata": {
        "id": "ud2whsgr5VM3"
      },
      "outputs": [],
      "source": [
        "import pandas as pd\n",
        "import numpy as np"
      ]
    },
    {
      "cell_type": "code",
      "source": [
        "data_review, continuation_token = reviews(\n",
        "    'jp.dena.showroom',\n",
        "    lang = 'id', # Mengatur bahasa ulasan yang ingin diambil, dalam hal ini bahasa Indonesia\n",
        "    country = 'id', # Mengatur negara pengirim ulasan, dalam hal ini negara Indonesia\n",
        "    sort = Sort.MOST_RELEVANT, # Diurut berdasarkan ulasan yang paling relevan\n",
        "    count = 300, # Banyaknya ulasan yang ingin diambil, dalam hal ini sebanyak 300\n",
        "    filter_score_with=None\n",
        ")\n",
        "\n",
        "df = pd.DataFrame(np.array(data_review), columns = ['ulasan'])\n",
        "df = df.join(pd.DataFrame(df.pop('ulasan').tolist()))"
      ],
      "metadata": {
        "id": "Sz8ynMp2kf7Q"
      },
      "execution_count": null,
      "outputs": []
    },
    {
      "cell_type": "code",
      "source": [
        "# Memasukkan data hasil scraping ke dalam file csv\n",
        "df = df[['userName', 'score', 'at', 'content']]\n",
        "df = df.sort_values(by = 'at', ascending = False)\n",
        "df.to_csv(\"Ulasan Showroom Data.csv\", index = False)"
      ],
      "metadata": {
        "id": "v3VfH34ykiNX"
      },
      "execution_count": null,
      "outputs": []
    },
    {
      "cell_type": "markdown",
      "source": [
        "# Pelabelan Dataset"
      ],
      "metadata": {
        "id": "A68wSb0rkoOJ"
      }
    },
    {
      "cell_type": "markdown",
      "source": [
        "Pelabelan dataset dilakukan secara manual dengan membagi label menjadi tiga kategori yaitu positif (1), netral (0), atau negatif(-1)."
      ],
      "metadata": {
        "id": "fS98fYFGkqLs"
      }
    },
    {
      "cell_type": "code",
      "source": [
        "from google.colab import drive\n",
        "drive.mount('/content/drive')"
      ],
      "metadata": {
        "colab": {
          "base_uri": "https://localhost:8080/"
        },
        "id": "KfibsBel5a99",
        "outputId": "b7d227f1-3061-46b5-f817-044d066b1f3f"
      },
      "execution_count": null,
      "outputs": [
        {
          "output_type": "stream",
          "name": "stdout",
          "text": [
            "Mounted at /content/drive\n"
          ]
        }
      ]
    },
    {
      "cell_type": "code",
      "source": [
        "df_review = pd.read_csv('/content/drive/MyDrive/Data/Ulasan Showroom Data Labelled.csv')"
      ],
      "metadata": {
        "id": "oktiMt8L5eXe"
      },
      "execution_count": null,
      "outputs": []
    },
    {
      "cell_type": "code",
      "source": [
        "df_review"
      ],
      "metadata": {
        "colab": {
          "base_uri": "https://localhost:8080/",
          "height": 423
        },
        "id": "mo3C6tEL7l_5",
        "outputId": "4b0f8afa-e08b-4fb2-cb51-64ba81a75681"
      },
      "execution_count": null,
      "outputs": [
        {
          "output_type": "execute_result",
          "data": {
            "text/plain": [
              "                           userName  score                   at  \\\n",
              "0    Rolandes Tri Putra Simanjuntak      5  2023-09-25 10:58:54   \n",
              "1                   Nafisah Nuraini      2  2023-09-25 10:22:24   \n",
              "2                          Zinedine      1   2023-09-25 7:16:03   \n",
              "3                       Jason Frans      5  2023-09-24 14:38:57   \n",
              "4            kaisar romawi tenggara      5  2023-09-23 13:37:55   \n",
              "..                              ...    ...                  ...   \n",
              "295                 SOFFA AL MARWAH      5   2020-10-04 6:46:05   \n",
              "296                           Archo      5   2020-09-24 3:23:58   \n",
              "297                  TERBALIK DUNIA      5   2020-09-21 7:40:24   \n",
              "298                     Mahdi Hanif      5  2020-09-18 13:17:39   \n",
              "299                 Pengguna Google      5   2018-09-20 7:09:44   \n",
              "\n",
              "                                                Ulasan  Sentimen  \n",
              "0                                 Bagus bisa liat oshi         1  \n",
              "1    Kenapa gk bisa login padahal udh sesuai petunj...        -1  \n",
              "2    Jaringan lancar bisa buat streaming YT, eh mas...        -1  \n",
              "3                   Apknya bagus,bisa liat cwe\" cantik         1  \n",
              "4          saya suka sr apalagi michie nya pas lagi sr         1  \n",
              "..                                                 ...       ...  \n",
              "295  perasaan dulu gw udh pernah kasih rating geh t...         1  \n",
              "296  Mantap.. Tapi gimana cara beli gift nya.. Ga n...         1  \n",
              "297  Intinya bagus fiturnya juga mantap , dan yqng ...         1  \n",
              "298  Bang, fitur translate ditambahin bang, masih a...         1  \n",
              "299  good bisa liat my oshi secara langsung di show...         1  \n",
              "\n",
              "[300 rows x 5 columns]"
            ],
            "text/html": [
              "\n",
              "  <div id=\"df-60396db2-a6cb-4da9-a6af-0e7dbf8f5e4e\" class=\"colab-df-container\">\n",
              "    <div>\n",
              "<style scoped>\n",
              "    .dataframe tbody tr th:only-of-type {\n",
              "        vertical-align: middle;\n",
              "    }\n",
              "\n",
              "    .dataframe tbody tr th {\n",
              "        vertical-align: top;\n",
              "    }\n",
              "\n",
              "    .dataframe thead th {\n",
              "        text-align: right;\n",
              "    }\n",
              "</style>\n",
              "<table border=\"1\" class=\"dataframe\">\n",
              "  <thead>\n",
              "    <tr style=\"text-align: right;\">\n",
              "      <th></th>\n",
              "      <th>userName</th>\n",
              "      <th>score</th>\n",
              "      <th>at</th>\n",
              "      <th>Ulasan</th>\n",
              "      <th>Sentimen</th>\n",
              "    </tr>\n",
              "  </thead>\n",
              "  <tbody>\n",
              "    <tr>\n",
              "      <th>0</th>\n",
              "      <td>Rolandes Tri Putra Simanjuntak</td>\n",
              "      <td>5</td>\n",
              "      <td>2023-09-25 10:58:54</td>\n",
              "      <td>Bagus bisa liat oshi</td>\n",
              "      <td>1</td>\n",
              "    </tr>\n",
              "    <tr>\n",
              "      <th>1</th>\n",
              "      <td>Nafisah Nuraini</td>\n",
              "      <td>2</td>\n",
              "      <td>2023-09-25 10:22:24</td>\n",
              "      <td>Kenapa gk bisa login padahal udh sesuai petunj...</td>\n",
              "      <td>-1</td>\n",
              "    </tr>\n",
              "    <tr>\n",
              "      <th>2</th>\n",
              "      <td>Zinedine</td>\n",
              "      <td>1</td>\n",
              "      <td>2023-09-25 7:16:03</td>\n",
              "      <td>Jaringan lancar bisa buat streaming YT, eh mas...</td>\n",
              "      <td>-1</td>\n",
              "    </tr>\n",
              "    <tr>\n",
              "      <th>3</th>\n",
              "      <td>Jason Frans</td>\n",
              "      <td>5</td>\n",
              "      <td>2023-09-24 14:38:57</td>\n",
              "      <td>Apknya bagus,bisa liat cwe\" cantik</td>\n",
              "      <td>1</td>\n",
              "    </tr>\n",
              "    <tr>\n",
              "      <th>4</th>\n",
              "      <td>kaisar romawi tenggara</td>\n",
              "      <td>5</td>\n",
              "      <td>2023-09-23 13:37:55</td>\n",
              "      <td>saya suka sr apalagi michie nya pas lagi sr</td>\n",
              "      <td>1</td>\n",
              "    </tr>\n",
              "    <tr>\n",
              "      <th>...</th>\n",
              "      <td>...</td>\n",
              "      <td>...</td>\n",
              "      <td>...</td>\n",
              "      <td>...</td>\n",
              "      <td>...</td>\n",
              "    </tr>\n",
              "    <tr>\n",
              "      <th>295</th>\n",
              "      <td>SOFFA AL MARWAH</td>\n",
              "      <td>5</td>\n",
              "      <td>2020-10-04 6:46:05</td>\n",
              "      <td>perasaan dulu gw udh pernah kasih rating geh t...</td>\n",
              "      <td>1</td>\n",
              "    </tr>\n",
              "    <tr>\n",
              "      <th>296</th>\n",
              "      <td>Archo</td>\n",
              "      <td>5</td>\n",
              "      <td>2020-09-24 3:23:58</td>\n",
              "      <td>Mantap.. Tapi gimana cara beli gift nya.. Ga n...</td>\n",
              "      <td>1</td>\n",
              "    </tr>\n",
              "    <tr>\n",
              "      <th>297</th>\n",
              "      <td>TERBALIK DUNIA</td>\n",
              "      <td>5</td>\n",
              "      <td>2020-09-21 7:40:24</td>\n",
              "      <td>Intinya bagus fiturnya juga mantap , dan yqng ...</td>\n",
              "      <td>1</td>\n",
              "    </tr>\n",
              "    <tr>\n",
              "      <th>298</th>\n",
              "      <td>Mahdi Hanif</td>\n",
              "      <td>5</td>\n",
              "      <td>2020-09-18 13:17:39</td>\n",
              "      <td>Bang, fitur translate ditambahin bang, masih a...</td>\n",
              "      <td>1</td>\n",
              "    </tr>\n",
              "    <tr>\n",
              "      <th>299</th>\n",
              "      <td>Pengguna Google</td>\n",
              "      <td>5</td>\n",
              "      <td>2018-09-20 7:09:44</td>\n",
              "      <td>good bisa liat my oshi secara langsung di show...</td>\n",
              "      <td>1</td>\n",
              "    </tr>\n",
              "  </tbody>\n",
              "</table>\n",
              "<p>300 rows × 5 columns</p>\n",
              "</div>\n",
              "    <div class=\"colab-df-buttons\">\n",
              "\n",
              "  <div class=\"colab-df-container\">\n",
              "    <button class=\"colab-df-convert\" onclick=\"convertToInteractive('df-60396db2-a6cb-4da9-a6af-0e7dbf8f5e4e')\"\n",
              "            title=\"Convert this dataframe to an interactive table.\"\n",
              "            style=\"display:none;\">\n",
              "\n",
              "  <svg xmlns=\"http://www.w3.org/2000/svg\" height=\"24px\" viewBox=\"0 -960 960 960\">\n",
              "    <path d=\"M120-120v-720h720v720H120Zm60-500h600v-160H180v160Zm220 220h160v-160H400v160Zm0 220h160v-160H400v160ZM180-400h160v-160H180v160Zm440 0h160v-160H620v160ZM180-180h160v-160H180v160Zm440 0h160v-160H620v160Z\"/>\n",
              "  </svg>\n",
              "    </button>\n",
              "\n",
              "  <style>\n",
              "    .colab-df-container {\n",
              "      display:flex;\n",
              "      gap: 12px;\n",
              "    }\n",
              "\n",
              "    .colab-df-convert {\n",
              "      background-color: #E8F0FE;\n",
              "      border: none;\n",
              "      border-radius: 50%;\n",
              "      cursor: pointer;\n",
              "      display: none;\n",
              "      fill: #1967D2;\n",
              "      height: 32px;\n",
              "      padding: 0 0 0 0;\n",
              "      width: 32px;\n",
              "    }\n",
              "\n",
              "    .colab-df-convert:hover {\n",
              "      background-color: #E2EBFA;\n",
              "      box-shadow: 0px 1px 2px rgba(60, 64, 67, 0.3), 0px 1px 3px 1px rgba(60, 64, 67, 0.15);\n",
              "      fill: #174EA6;\n",
              "    }\n",
              "\n",
              "    .colab-df-buttons div {\n",
              "      margin-bottom: 4px;\n",
              "    }\n",
              "\n",
              "    [theme=dark] .colab-df-convert {\n",
              "      background-color: #3B4455;\n",
              "      fill: #D2E3FC;\n",
              "    }\n",
              "\n",
              "    [theme=dark] .colab-df-convert:hover {\n",
              "      background-color: #434B5C;\n",
              "      box-shadow: 0px 1px 3px 1px rgba(0, 0, 0, 0.15);\n",
              "      filter: drop-shadow(0px 1px 2px rgba(0, 0, 0, 0.3));\n",
              "      fill: #FFFFFF;\n",
              "    }\n",
              "  </style>\n",
              "\n",
              "    <script>\n",
              "      const buttonEl =\n",
              "        document.querySelector('#df-60396db2-a6cb-4da9-a6af-0e7dbf8f5e4e button.colab-df-convert');\n",
              "      buttonEl.style.display =\n",
              "        google.colab.kernel.accessAllowed ? 'block' : 'none';\n",
              "\n",
              "      async function convertToInteractive(key) {\n",
              "        const element = document.querySelector('#df-60396db2-a6cb-4da9-a6af-0e7dbf8f5e4e');\n",
              "        const dataTable =\n",
              "          await google.colab.kernel.invokeFunction('convertToInteractive',\n",
              "                                                    [key], {});\n",
              "        if (!dataTable) return;\n",
              "\n",
              "        const docLinkHtml = 'Like what you see? Visit the ' +\n",
              "          '<a target=\"_blank\" href=https://colab.research.google.com/notebooks/data_table.ipynb>data table notebook</a>'\n",
              "          + ' to learn more about interactive tables.';\n",
              "        element.innerHTML = '';\n",
              "        dataTable['output_type'] = 'display_data';\n",
              "        await google.colab.output.renderOutput(dataTable, element);\n",
              "        const docLink = document.createElement('div');\n",
              "        docLink.innerHTML = docLinkHtml;\n",
              "        element.appendChild(docLink);\n",
              "      }\n",
              "    </script>\n",
              "  </div>\n",
              "\n",
              "\n",
              "<div id=\"df-1a35536f-da52-4c69-95b3-7468e41cab8d\">\n",
              "  <button class=\"colab-df-quickchart\" onclick=\"quickchart('df-1a35536f-da52-4c69-95b3-7468e41cab8d')\"\n",
              "            title=\"Suggest charts.\"\n",
              "            style=\"display:none;\">\n",
              "\n",
              "<svg xmlns=\"http://www.w3.org/2000/svg\" height=\"24px\"viewBox=\"0 0 24 24\"\n",
              "     width=\"24px\">\n",
              "    <g>\n",
              "        <path d=\"M19 3H5c-1.1 0-2 .9-2 2v14c0 1.1.9 2 2 2h14c1.1 0 2-.9 2-2V5c0-1.1-.9-2-2-2zM9 17H7v-7h2v7zm4 0h-2V7h2v10zm4 0h-2v-4h2v4z\"/>\n",
              "    </g>\n",
              "</svg>\n",
              "  </button>\n",
              "\n",
              "<style>\n",
              "  .colab-df-quickchart {\n",
              "      --bg-color: #E8F0FE;\n",
              "      --fill-color: #1967D2;\n",
              "      --hover-bg-color: #E2EBFA;\n",
              "      --hover-fill-color: #174EA6;\n",
              "      --disabled-fill-color: #AAA;\n",
              "      --disabled-bg-color: #DDD;\n",
              "  }\n",
              "\n",
              "  [theme=dark] .colab-df-quickchart {\n",
              "      --bg-color: #3B4455;\n",
              "      --fill-color: #D2E3FC;\n",
              "      --hover-bg-color: #434B5C;\n",
              "      --hover-fill-color: #FFFFFF;\n",
              "      --disabled-bg-color: #3B4455;\n",
              "      --disabled-fill-color: #666;\n",
              "  }\n",
              "\n",
              "  .colab-df-quickchart {\n",
              "    background-color: var(--bg-color);\n",
              "    border: none;\n",
              "    border-radius: 50%;\n",
              "    cursor: pointer;\n",
              "    display: none;\n",
              "    fill: var(--fill-color);\n",
              "    height: 32px;\n",
              "    padding: 0;\n",
              "    width: 32px;\n",
              "  }\n",
              "\n",
              "  .colab-df-quickchart:hover {\n",
              "    background-color: var(--hover-bg-color);\n",
              "    box-shadow: 0 1px 2px rgba(60, 64, 67, 0.3), 0 1px 3px 1px rgba(60, 64, 67, 0.15);\n",
              "    fill: var(--button-hover-fill-color);\n",
              "  }\n",
              "\n",
              "  .colab-df-quickchart-complete:disabled,\n",
              "  .colab-df-quickchart-complete:disabled:hover {\n",
              "    background-color: var(--disabled-bg-color);\n",
              "    fill: var(--disabled-fill-color);\n",
              "    box-shadow: none;\n",
              "  }\n",
              "\n",
              "  .colab-df-spinner {\n",
              "    border: 2px solid var(--fill-color);\n",
              "    border-color: transparent;\n",
              "    border-bottom-color: var(--fill-color);\n",
              "    animation:\n",
              "      spin 1s steps(1) infinite;\n",
              "  }\n",
              "\n",
              "  @keyframes spin {\n",
              "    0% {\n",
              "      border-color: transparent;\n",
              "      border-bottom-color: var(--fill-color);\n",
              "      border-left-color: var(--fill-color);\n",
              "    }\n",
              "    20% {\n",
              "      border-color: transparent;\n",
              "      border-left-color: var(--fill-color);\n",
              "      border-top-color: var(--fill-color);\n",
              "    }\n",
              "    30% {\n",
              "      border-color: transparent;\n",
              "      border-left-color: var(--fill-color);\n",
              "      border-top-color: var(--fill-color);\n",
              "      border-right-color: var(--fill-color);\n",
              "    }\n",
              "    40% {\n",
              "      border-color: transparent;\n",
              "      border-right-color: var(--fill-color);\n",
              "      border-top-color: var(--fill-color);\n",
              "    }\n",
              "    60% {\n",
              "      border-color: transparent;\n",
              "      border-right-color: var(--fill-color);\n",
              "    }\n",
              "    80% {\n",
              "      border-color: transparent;\n",
              "      border-right-color: var(--fill-color);\n",
              "      border-bottom-color: var(--fill-color);\n",
              "    }\n",
              "    90% {\n",
              "      border-color: transparent;\n",
              "      border-bottom-color: var(--fill-color);\n",
              "    }\n",
              "  }\n",
              "</style>\n",
              "\n",
              "  <script>\n",
              "    async function quickchart(key) {\n",
              "      const quickchartButtonEl =\n",
              "        document.querySelector('#' + key + ' button');\n",
              "      quickchartButtonEl.disabled = true;  // To prevent multiple clicks.\n",
              "      quickchartButtonEl.classList.add('colab-df-spinner');\n",
              "      try {\n",
              "        const charts = await google.colab.kernel.invokeFunction(\n",
              "            'suggestCharts', [key], {});\n",
              "      } catch (error) {\n",
              "        console.error('Error during call to suggestCharts:', error);\n",
              "      }\n",
              "      quickchartButtonEl.classList.remove('colab-df-spinner');\n",
              "      quickchartButtonEl.classList.add('colab-df-quickchart-complete');\n",
              "    }\n",
              "    (() => {\n",
              "      let quickchartButtonEl =\n",
              "        document.querySelector('#df-1a35536f-da52-4c69-95b3-7468e41cab8d button');\n",
              "      quickchartButtonEl.style.display =\n",
              "        google.colab.kernel.accessAllowed ? 'block' : 'none';\n",
              "    })();\n",
              "  </script>\n",
              "</div>\n",
              "    </div>\n",
              "  </div>\n"
            ]
          },
          "metadata": {},
          "execution_count": 10
        }
      ]
    },
    {
      "cell_type": "code",
      "source": [
        "import matplotlib.pyplot as plt"
      ],
      "metadata": {
        "id": "CkYW5lve51sp"
      },
      "execution_count": null,
      "outputs": []
    },
    {
      "cell_type": "code",
      "source": [
        "objects = df_review['Sentimen'].unique()\n",
        "y_pos = np.arange(len(objects))\n",
        "performance = [len(df_review[df_review['Sentimen'] == sentiment]) for sentiment in df_review['Sentimen'].unique()]\n",
        "\n",
        "plt.figure(figsize = (18, 6), dpi = 80)\n",
        "plt.bar(y_pos[:15], performance[:15], align = 'center', alpha = 0.5)\n",
        "plt.xticks(y_pos[:15], objects[:15])\n",
        "plt.ylabel('Amount')\n",
        "plt.xlabel('Sentimen')\n",
        "plt.title('Distribusi Data Sentimen')\n",
        "\n",
        "plt.show()"
      ],
      "metadata": {
        "colab": {
          "base_uri": "https://localhost:8080/",
          "height": 427
        },
        "id": "ww_5LlEl52GI",
        "outputId": "0ae2081a-0891-4bab-8261-010dc511d8d2"
      },
      "execution_count": null,
      "outputs": [
        {
          "output_type": "display_data",
          "data": {
            "text/plain": [
              "<Figure size 1440x480 with 1 Axes>"
            ],
            "image/png": "[encoded data removed]"
          },
          "metadata": {}
        }
      ]
    },
    {
      "cell_type": "markdown",
      "source": [
        "# Text Preprocessing"
      ],
      "metadata": {
        "id": "8W51of5y6pB8"
      }
    },
    {
      "cell_type": "code",
      "source": [
        "# Menghitung jumlah nilai null pada kolom Sentimen\n",
        "total_null = df_review['Sentimen'].isnull().sum()\n",
        "print(f'Total null:{total_null}')"
      ],
      "metadata": {
        "colab": {
          "base_uri": "https://localhost:8080/"
        },
        "id": "1f0W36l16ikK",
        "outputId": "68a339e9-272f-4b1f-cebb-5d6eaf71fe1e"
      },
      "execution_count": null,
      "outputs": [
        {
          "output_type": "stream",
          "name": "stdout",
          "text": [
            "Total null:0\n"
          ]
        }
      ]
    },
    {
      "cell_type": "code",
      "source": [
        "# Menghapus baris yang terdapat nilai null\n",
        "df_review = df_review.dropna(how = 'any')\n",
        "df_review = df_review.reset_index()"
      ],
      "metadata": {
        "id": "rMnZk2Hh67ou"
      },
      "execution_count": null,
      "outputs": []
    },
    {
      "cell_type": "code",
      "source": [
        "df_review"
      ],
      "metadata": {
        "colab": {
          "base_uri": "https://localhost:8080/",
          "height": 423
        },
        "id": "jfiyTUWV8hjS",
        "outputId": "de3b167f-c68f-4fa7-90c1-3b5bd3c4f6d9"
      },
      "execution_count": null,
      "outputs": [
        {
          "output_type": "execute_result",
          "data": {
            "text/plain": [
              "     index                        userName  score                   at  \\\n",
              "0        0  Rolandes Tri Putra Simanjuntak      5  2023-09-25 10:58:54   \n",
              "1        1                 Nafisah Nuraini      2  2023-09-25 10:22:24   \n",
              "2        2                        Zinedine      1   2023-09-25 7:16:03   \n",
              "3        3                     Jason Frans      5  2023-09-24 14:38:57   \n",
              "4        4          kaisar romawi tenggara      5  2023-09-23 13:37:55   \n",
              "..     ...                             ...    ...                  ...   \n",
              "295    295                 SOFFA AL MARWAH      5   2020-10-04 6:46:05   \n",
              "296    296                           Archo      5   2020-09-24 3:23:58   \n",
              "297    297                  TERBALIK DUNIA      5   2020-09-21 7:40:24   \n",
              "298    298                     Mahdi Hanif      5  2020-09-18 13:17:39   \n",
              "299    299                 Pengguna Google      5   2018-09-20 7:09:44   \n",
              "\n",
              "                                                Ulasan  Sentimen  \n",
              "0                                 Bagus bisa liat oshi         1  \n",
              "1    Kenapa gk bisa login padahal udh sesuai petunj...        -1  \n",
              "2    Jaringan lancar bisa buat streaming YT, eh mas...        -1  \n",
              "3                   Apknya bagus,bisa liat cwe\" cantik         1  \n",
              "4          saya suka sr apalagi michie nya pas lagi sr         1  \n",
              "..                                                 ...       ...  \n",
              "295  perasaan dulu gw udh pernah kasih rating geh t...         1  \n",
              "296  Mantap.. Tapi gimana cara beli gift nya.. Ga n...         1  \n",
              "297  Intinya bagus fiturnya juga mantap , dan yqng ...         1  \n",
              "298  Bang, fitur translate ditambahin bang, masih a...         1  \n",
              "299  good bisa liat my oshi secara langsung di show...         1  \n",
              "\n",
              "[300 rows x 6 columns]"
            ],
            "text/html": [
              "\n",
              "  <div id=\"df-627fc6da-b00c-4d62-baca-267fa9867a97\" class=\"colab-df-container\">\n",
              "    <div>\n",
              "<style scoped>\n",
              "    .dataframe tbody tr th:only-of-type {\n",
              "        vertical-align: middle;\n",
              "    }\n",
              "\n",
              "    .dataframe tbody tr th {\n",
              "        vertical-align: top;\n",
              "    }\n",
              "\n",
              "    .dataframe thead th {\n",
              "        text-align: right;\n",
              "    }\n",
              "</style>\n",
              "<table border=\"1\" class=\"dataframe\">\n",
              "  <thead>\n",
              "    <tr style=\"text-align: right;\">\n",
              "      <th></th>\n",
              "      <th>index</th>\n",
              "      <th>userName</th>\n",
              "      <th>score</th>\n",
              "      <th>at</th>\n",
              "      <th>Ulasan</th>\n",
              "      <th>Sentimen</th>\n",
              "    </tr>\n",
              "  </thead>\n",
              "  <tbody>\n",
              "    <tr>\n",
              "      <th>0</th>\n",
              "      <td>0</td>\n",
              "      <td>Rolandes Tri Putra Simanjuntak</td>\n",
              "      <td>5</td>\n",
              "      <td>2023-09-25 10:58:54</td>\n",
              "      <td>Bagus bisa liat oshi</td>\n",
              "      <td>1</td>\n",
              "    </tr>\n",
              "    <tr>\n",
              "      <th>1</th>\n",
              "      <td>1</td>\n",
              "      <td>Nafisah Nuraini</td>\n",
              "      <td>2</td>\n",
              "      <td>2023-09-25 10:22:24</td>\n",
              "      <td>Kenapa gk bisa login padahal udh sesuai petunj...</td>\n",
              "      <td>-1</td>\n",
              "    </tr>\n",
              "    <tr>\n",
              "      <th>2</th>\n",
              "      <td>2</td>\n",
              "      <td>Zinedine</td>\n",
              "      <td>1</td>\n",
              "      <td>2023-09-25 7:16:03</td>\n",
              "      <td>Jaringan lancar bisa buat streaming YT, eh mas...</td>\n",
              "      <td>-1</td>\n",
              "    </tr>\n",
              "    <tr>\n",
              "      <th>3</th>\n",
              "      <td>3</td>\n",
              "      <td>Jason Frans</td>\n",
              "      <td>5</td>\n",
              "      <td>2023-09-24 14:38:57</td>\n",
              "      <td>Apknya bagus,bisa liat cwe\" cantik</td>\n",
              "      <td>1</td>\n",
              "    </tr>\n",
              "    <tr>\n",
              "      <th>4</th>\n",
              "      <td>4</td>\n",
              "      <td>kaisar romawi tenggara</td>\n",
              "      <td>5</td>\n",
              "      <td>2023-09-23 13:37:55</td>\n",
              "      <td>saya suka sr apalagi michie nya pas lagi sr</td>\n",
              "      <td>1</td>\n",
              "    </tr>\n",
              "    <tr>\n",
              "      <th>...</th>\n",
              "      <td>...</td>\n",
              "      <td>...</td>\n",
              "      <td>...</td>\n",
              "      <td>...</td>\n",
              "      <td>...</td>\n",
              "      <td>...</td>\n",
              "    </tr>\n",
              "    <tr>\n",
              "      <th>295</th>\n",
              "      <td>295</td>\n",
              "      <td>SOFFA AL MARWAH</td>\n",
              "      <td>5</td>\n",
              "      <td>2020-10-04 6:46:05</td>\n",
              "      <td>perasaan dulu gw udh pernah kasih rating geh t...</td>\n",
              "      <td>1</td>\n",
              "    </tr>\n",
              "    <tr>\n",
              "      <th>296</th>\n",
              "      <td>296</td>\n",
              "      <td>Archo</td>\n",
              "      <td>5</td>\n",
              "      <td>2020-09-24 3:23:58</td>\n",
              "      <td>Mantap.. Tapi gimana cara beli gift nya.. Ga n...</td>\n",
              "      <td>1</td>\n",
              "    </tr>\n",
              "    <tr>\n",
              "      <th>297</th>\n",
              "      <td>297</td>\n",
              "      <td>TERBALIK DUNIA</td>\n",
              "      <td>5</td>\n",
              "      <td>2020-09-21 7:40:24</td>\n",
              "      <td>Intinya bagus fiturnya juga mantap , dan yqng ...</td>\n",
              "      <td>1</td>\n",
              "    </tr>\n",
              "    <tr>\n",
              "      <th>298</th>\n",
              "      <td>298</td>\n",
              "      <td>Mahdi Hanif</td>\n",
              "      <td>5</td>\n",
              "      <td>2020-09-18 13:17:39</td>\n",
              "      <td>Bang, fitur translate ditambahin bang, masih a...</td>\n",
              "      <td>1</td>\n",
              "    </tr>\n",
              "    <tr>\n",
              "      <th>299</th>\n",
              "      <td>299</td>\n",
              "      <td>Pengguna Google</td>\n",
              "      <td>5</td>\n",
              "      <td>2018-09-20 7:09:44</td>\n",
              "      <td>good bisa liat my oshi secara langsung di show...</td>\n",
              "      <td>1</td>\n",
              "    </tr>\n",
              "  </tbody>\n",
              "</table>\n",
              "<p>300 rows × 6 columns</p>\n",
              "</div>\n",
              "    <div class=\"colab-df-buttons\">\n",
              "\n",
              "  <div class=\"colab-df-container\">\n",
              "    <button class=\"colab-df-convert\" onclick=\"convertToInteractive('df-627fc6da-b00c-4d62-baca-267fa9867a97')\"\n",
              "            title=\"Convert this dataframe to an interactive table.\"\n",
              "            style=\"display:none;\">\n",
              "\n",
              "  <svg xmlns=\"http://www.w3.org/2000/svg\" height=\"24px\" viewBox=\"0 -960 960 960\">\n",
              "    <path d=\"M120-120v-720h720v720H120Zm60-500h600v-160H180v160Zm220 220h160v-160H400v160Zm0 220h160v-160H400v160ZM180-400h160v-160H180v160Zm440 0h160v-160H620v160ZM180-180h160v-160H180v160Zm440 0h160v-160H620v160Z\"/>\n",
              "  </svg>\n",
              "    </button>\n",
              "\n",
              "  <style>\n",
              "    .colab-df-container {\n",
              "      display:flex;\n",
              "      gap: 12px;\n",
              "    }\n",
              "\n",
              "    .colab-df-convert {\n",
              "      background-color: #E8F0FE;\n",
              "      border: none;\n",
              "      border-radius: 50%;\n",
              "      cursor: pointer;\n",
              "      display: none;\n",
              "      fill: #1967D2;\n",
              "      height: 32px;\n",
              "      padding: 0 0 0 0;\n",
              "      width: 32px;\n",
              "    }\n",
              "\n",
              "    .colab-df-convert:hover {\n",
              "      background-color: #E2EBFA;\n",
              "      box-shadow: 0px 1px 2px rgba(60, 64, 67, 0.3), 0px 1px 3px 1px rgba(60, 64, 67, 0.15);\n",
              "      fill: #174EA6;\n",
              "    }\n",
              "\n",
              "    .colab-df-buttons div {\n",
              "      margin-bottom: 4px;\n",
              "    }\n",
              "\n",
              "    [theme=dark] .colab-df-convert {\n",
              "      background-color: #3B4455;\n",
              "      fill: #D2E3FC;\n",
              "    }\n",
              "\n",
              "    [theme=dark] .colab-df-convert:hover {\n",
              "      background-color: #434B5C;\n",
              "      box-shadow: 0px 1px 3px 1px rgba(0, 0, 0, 0.15);\n",
              "      filter: drop-shadow(0px 1px 2px rgba(0, 0, 0, 0.3));\n",
              "      fill: #FFFFFF;\n",
              "    }\n",
              "  </style>\n",
              "\n",
              "    <script>\n",
              "      const buttonEl =\n",
              "        document.querySelector('#df-627fc6da-b00c-4d62-baca-267fa9867a97 button.colab-df-convert');\n",
              "      buttonEl.style.display =\n",
              "        google.colab.kernel.accessAllowed ? 'block' : 'none';\n",
              "\n",
              "      async function convertToInteractive(key) {\n",
              "        const element = document.querySelector('#df-627fc6da-b00c-4d62-baca-267fa9867a97');\n",
              "        const dataTable =\n",
              "          await google.colab.kernel.invokeFunction('convertToInteractive',\n",
              "                                                    [key], {});\n",
              "        if (!dataTable) return;\n",
              "\n",
              "        const docLinkHtml = 'Like what you see? Visit the ' +\n",
              "          '<a target=\"_blank\" href=https://colab.research.google.com/notebooks/data_table.ipynb>data table notebook</a>'\n",
              "          + ' to learn more about interactive tables.';\n",
              "        element.innerHTML = '';\n",
              "        dataTable['output_type'] = 'display_data';\n",
              "        await google.colab.output.renderOutput(dataTable, element);\n",
              "        const docLink = document.createElement('div');\n",
              "        docLink.innerHTML = docLinkHtml;\n",
              "        element.appendChild(docLink);\n",
              "      }\n",
              "    </script>\n",
              "  </div>\n",
              "\n",
              "\n",
              "<div id=\"df-1d427967-a8f2-4a5f-aa57-a26713743355\">\n",
              "  <button class=\"colab-df-quickchart\" onclick=\"quickchart('df-1d427967-a8f2-4a5f-aa57-a26713743355')\"\n",
              "            title=\"Suggest charts.\"\n",
              "            style=\"display:none;\">\n",
              "\n",
              "<svg xmlns=\"http://www.w3.org/2000/svg\" height=\"24px\"viewBox=\"0 0 24 24\"\n",
              "     width=\"24px\">\n",
              "    <g>\n",
              "        <path d=\"M19 3H5c-1.1 0-2 .9-2 2v14c0 1.1.9 2 2 2h14c1.1 0 2-.9 2-2V5c0-1.1-.9-2-2-2zM9 17H7v-7h2v7zm4 0h-2V7h2v10zm4 0h-2v-4h2v4z\"/>\n",
              "    </g>\n",
              "</svg>\n",
              "  </button>\n",
              "\n",
              "<style>\n",
              "  .colab-df-quickchart {\n",
              "      --bg-color: #E8F0FE;\n",
              "      --fill-color: #1967D2;\n",
              "      --hover-bg-color: #E2EBFA;\n",
              "      --hover-fill-color: #174EA6;\n",
              "      --disabled-fill-color: #AAA;\n",
              "      --disabled-bg-color: #DDD;\n",
              "  }\n",
              "\n",
              "  [theme=dark] .colab-df-quickchart {\n",
              "      --bg-color: #3B4455;\n",
              "      --fill-color: #D2E3FC;\n",
              "      --hover-bg-color: #434B5C;\n",
              "      --hover-fill-color: #FFFFFF;\n",
              "      --disabled-bg-color: #3B4455;\n",
              "      --disabled-fill-color: #666;\n",
              "  }\n",
              "\n",
              "  .colab-df-quickchart {\n",
              "    background-color: var(--bg-color);\n",
              "    border: none;\n",
              "    border-radius: 50%;\n",
              "    cursor: pointer;\n",
              "    display: none;\n",
              "    fill: var(--fill-color);\n",
              "    height: 32px;\n",
              "    padding: 0;\n",
              "    width: 32px;\n",
              "  }\n",
              "\n",
              "  .colab-df-quickchart:hover {\n",
              "    background-color: var(--hover-bg-color);\n",
              "    box-shadow: 0 1px 2px rgba(60, 64, 67, 0.3), 0 1px 3px 1px rgba(60, 64, 67, 0.15);\n",
              "    fill: var(--button-hover-fill-color);\n",
              "  }\n",
              "\n",
              "  .colab-df-quickchart-complete:disabled,\n",
              "  .colab-df-quickchart-complete:disabled:hover {\n",
              "    background-color: var(--disabled-bg-color);\n",
              "    fill: var(--disabled-fill-color);\n",
              "    box-shadow: none;\n",
              "  }\n",
              "\n",
              "  .colab-df-spinner {\n",
              "    border: 2px solid var(--fill-color);\n",
              "    border-color: transparent;\n",
              "    border-bottom-color: var(--fill-color);\n",
              "    animation:\n",
              "      spin 1s steps(1) infinite;\n",
              "  }\n",
              "\n",
              "  @keyframes spin {\n",
              "    0% {\n",
              "      border-color: transparent;\n",
              "      border-bottom-color: var(--fill-color);\n",
              "      border-left-color: var(--fill-color);\n",
              "    }\n",
              "    20% {\n",
              "      border-color: transparent;\n",
              "      border-left-color: var(--fill-color);\n",
              "      border-top-color: var(--fill-color);\n",
              "    }\n",
              "    30% {\n",
              "      border-color: transparent;\n",
              "      border-left-color: var(--fill-color);\n",
              "      border-top-color: var(--fill-color);\n",
              "      border-right-color: var(--fill-color);\n",
              "    }\n",
              "    40% {\n",
              "      border-color: transparent;\n",
              "      border-right-color: var(--fill-color);\n",
              "      border-top-color: var(--fill-color);\n",
              "    }\n",
              "    60% {\n",
              "      border-color: transparent;\n",
              "      border-right-color: var(--fill-color);\n",
              "    }\n",
              "    80% {\n",
              "      border-color: transparent;\n",
              "      border-right-color: var(--fill-color);\n",
              "      border-bottom-color: var(--fill-color);\n",
              "    }\n",
              "    90% {\n",
              "      border-color: transparent;\n",
              "      border-bottom-color: var(--fill-color);\n",
              "    }\n",
              "  }\n",
              "</style>\n",
              "\n",
              "  <script>\n",
              "    async function quickchart(key) {\n",
              "      const quickchartButtonEl =\n",
              "        document.querySelector('#' + key + ' button');\n",
              "      quickchartButtonEl.disabled = true;  // To prevent multiple clicks.\n",
              "      quickchartButtonEl.classList.add('colab-df-spinner');\n",
              "      try {\n",
              "        const charts = await google.colab.kernel.invokeFunction(\n",
              "            'suggestCharts', [key], {});\n",
              "      } catch (error) {\n",
              "        console.error('Error during call to suggestCharts:', error);\n",
              "      }\n",
              "      quickchartButtonEl.classList.remove('colab-df-spinner');\n",
              "      quickchartButtonEl.classList.add('colab-df-quickchart-complete');\n",
              "    }\n",
              "    (() => {\n",
              "      let quickchartButtonEl =\n",
              "        document.querySelector('#df-1d427967-a8f2-4a5f-aa57-a26713743355 button');\n",
              "      quickchartButtonEl.style.display =\n",
              "        google.colab.kernel.accessAllowed ? 'block' : 'none';\n",
              "    })();\n",
              "  </script>\n",
              "</div>\n",
              "    </div>\n",
              "  </div>\n"
            ]
          },
          "metadata": {},
          "execution_count": 12
        }
      ]
    },
    {
      "cell_type": "code",
      "source": [
        "# Diubah menjadi numpy array\n",
        "all_texts = df_review['Ulasan'].to_numpy()"
      ],
      "metadata": {
        "id": "zcrZnTOB9j7V"
      },
      "execution_count": null,
      "outputs": []
    },
    {
      "cell_type": "code",
      "source": [
        "import nltk\n",
        "nltk.download('stopwords')"
      ],
      "metadata": {
        "id": "N23UAlhT9tFc",
        "outputId": "d32f7865-881e-4b0d-9189-2b4e6ac244be",
        "colab": {
          "base_uri": "https://localhost:8080/"
        }
      },
      "execution_count": null,
      "outputs": [
        {
          "output_type": "stream",
          "name": "stderr",
          "text": [
            "[nltk_data] Downloading package stopwords to /root/nltk_data...\n",
            "[nltk_data]   Unzipping corpora/stopwords.zip.\n"
          ]
        },
        {
          "output_type": "execute_result",
          "data": {
            "text/plain": [
              "True"
            ]
          },
          "metadata": {},
          "execution_count": 14
        }
      ]
    },
    {
      "cell_type": "code",
      "source": [
        "from nltk.corpus import stopwords"
      ],
      "metadata": {
        "id": "eYU1KCBY9zH6"
      },
      "execution_count": null,
      "outputs": []
    },
    {
      "cell_type": "code",
      "source": [
        "import re"
      ],
      "metadata": {
        "id": "x3R53F9oCfvM"
      },
      "execution_count": null,
      "outputs": []
    },
    {
      "cell_type": "code",
      "source": [
        "pip install Sastrawi"
      ],
      "metadata": {
        "colab": {
          "base_uri": "https://localhost:8080/"
        },
        "id": "Ly-sqnljhb5z",
        "outputId": "a8cd0205-e1e2-480e-bb51-1d1834b77f5f"
      },
      "execution_count": null,
      "outputs": [
        {
          "output_type": "stream",
          "name": "stdout",
          "text": [
            "Collecting Sastrawi\n",
            "  Downloading Sastrawi-1.0.1-py2.py3-none-any.whl (209 kB)\n",
            "\u001b[2K     \u001b[90m━━━━━━━━━━━━━━━━━━━━━━━━━━━━━━━━━━━━━━━\u001b[0m \u001b[32m209.7/209.7 kB\u001b[0m \u001b[31m1.9 MB/s\u001b[0m eta \u001b[36m0:00:00\u001b[0m\n",
            "\u001b[?25hInstalling collected packages: Sastrawi\n",
            "Successfully installed Sastrawi-1.0.1\n"
          ]
        }
      ]
    },
    {
      "cell_type": "code",
      "source": [
        "from nltk.tokenize import word_tokenize\n",
        "from Sastrawi.Stemmer.StemmerFactory import StemmerFactory"
      ],
      "metadata": {
        "id": "TDAQUgRDCtN3"
      },
      "execution_count": null,
      "outputs": []
    },
    {
      "cell_type": "code",
      "source": [
        "# Mengimpor daftar stop words dalam bahasa Indonesia\n",
        "stop_words = (stopwords.words('indonesian'))\n",
        "stop_words.extend([\"yg\", \"yqng\", \"dg\", \"rt\"]) # Menambahkan daftar stop words secara manual\n",
        "stop_words = set(stop_words)"
      ],
      "metadata": {
        "id": "dEdWb6fw9vYe"
      },
      "execution_count": null,
      "outputs": []
    },
    {
      "cell_type": "code",
      "source": [
        "# Inisialisasi stemmer Sastrawi\n",
        "factory = StemmerFactory()\n",
        "stemmer = factory.create_stemmer()"
      ],
      "metadata": {
        "id": "EPvTwqsdhXAy"
      },
      "execution_count": null,
      "outputs": []
    },
    {
      "cell_type": "code",
      "source": [
        "# Fungsi untuk membersihkan teks\n",
        "def clean(text):\n",
        "    text = text.lower()\n",
        "    text = subTo(text)\n",
        "    text = replaceTOM(text)\n",
        "    text = replaceSlangwords(text)\n",
        "    text = processText(text)\n",
        "    return text\n",
        "\n",
        "# Fungsi untuk menghapus hal-hal yang tidak diperlukan pada teks\n",
        "def subTo(text):\n",
        "    text = re.sub(r'@[A-Za-a0-9]+', ' ', text) # Menghapus username yang diawali dengan @ dan diganti dengan spasi\n",
        "    text = re.sub(r'[0-9]+',' ', text) # Menghapus semua angka dalam ulasan dan diganti dengan spasi\n",
        "    text = re.sub(r\"[-()\\\"#/@;:<>{}'+=~|.!?,_$&]\", \" \", text) # Menghapus karakter khusus dan diganti dengan spasi\n",
        "    text = text.strip() # Menghapus spasi yang berlebihan\n",
        "    text = text.encode('ascii', 'ignore').decode('ascii') # Menghapus emoji\n",
        "    return text\n",
        "\n",
        "# Fungsi untuk mencari pola karakter berurutan yang sama minimal 3\n",
        "def replaceTOM(text):\n",
        "    pattern = re.compile(r'(.)\\1{2,}', re.DOTALL)\n",
        "    return pattern.sub(r'\\1', text)\n",
        "\n",
        "# Fungsi untuk mengganti kata-kata slang\n",
        "def replaceSlangwords(text):\n",
        "    slangwordsDict = eval(open('/content/drive/MyDrive/Data/slangwords_1.txt').read())\n",
        "    pattern = re.compile(r'\\b(' + '|'.join(slangwordsDict.keys()) + r')\\b')\n",
        "    return pattern.sub(lambda x: slangwordsDict[x.group()], text)\n",
        "\n",
        "# Fungsi untuk melakukan tokenisasi, menghapus stop words, dan stemming\n",
        "def processText(text):\n",
        "    word_tokens = word_tokenize(text)\n",
        "    filtered_tokens = [word for word in word_tokens if word not in stop_words]\n",
        "    stemmed_tokens = [stemmer.stem(word) for word in filtered_tokens]\n",
        "    return ' '.join(stemmed_tokens)"
      ],
      "metadata": {
        "id": "5zuyJWA9-T6z"
      },
      "execution_count": null,
      "outputs": []
    },
    {
      "cell_type": "code",
      "source": [
        "# Punctuantion library\n",
        "import nltk\n",
        "nltk.download('punkt')"
      ],
      "metadata": {
        "colab": {
          "base_uri": "https://localhost:8080/"
        },
        "id": "2Ddnq6vwCMAx",
        "outputId": "2cbd0fa4-f8b9-4372-9c8c-32ed5ec13268"
      },
      "execution_count": null,
      "outputs": [
        {
          "output_type": "stream",
          "name": "stderr",
          "text": [
            "[nltk_data] Downloading package punkt to /root/nltk_data...\n",
            "[nltk_data]   Unzipping tokenizers/punkt.zip.\n"
          ]
        },
        {
          "output_type": "execute_result",
          "data": {
            "text/plain": [
              "True"
            ]
          },
          "metadata": {},
          "execution_count": 19
        }
      ]
    },
    {
      "cell_type": "code",
      "source": [
        "# Membersihkan all_texts menggunakan fungsi clean(text)\n",
        "all_cleaned_texts = np.array([clean(text) for text in all_texts])"
      ],
      "metadata": {
        "id": "P-ERL5N3CNUi"
      },
      "execution_count": null,
      "outputs": []
    },
    {
      "cell_type": "code",
      "source": [
        "all_cleaned_texts"
      ],
      "metadata": {
        "colab": {
          "base_uri": "https://localhost:8080/"
        },
        "id": "UcsxeTeFCx18",
        "outputId": "eff57ca2-a26b-4979-a7d5-699a5d1fc027"
      },
      "execution_count": null,
      "outputs": [
        {
          "output_type": "execute_result",
          "data": {
            "text/plain": [
              "array(['bagus lihat idola', 'login sesuai tunjuk password nya salah sih',\n",
              "       'jaring lancar streaming yt eh masuk aplikasi jaring error',\n",
              "       'aplikasi bagus lihat cewek cantik',\n",
              "       'suka showroom michie nya pas showroom', 'bagus nonton pacar',\n",
              "       'seru banget nonton idola showroom',\n",
              "       'mantap sih kadang notif nya lambat',\n",
              "       'masuk showroom muncul gambar video idol member jkt nya suruh muat ulang aplikasi nya pas muat ulang muncul gambar vide idol nya sinyal internet bagus suruh muat ulang mohon baik iya aplikasi nya',\n",
              "       'aplikasi eror kasih bintang',\n",
              "       'pakai bang showroom layar nya hitam copot ttp',\n",
              "       'benerin min ga error pakai wifi ah elah',\n",
              "       'nonton idol sia showroomnya muat',\n",
              "       'tebak unduh cmn nonton showroom idola ny',\n",
              "       'aplikasi kenal idolnya fansnya', 'gatau bicara bagus aplikasi he',\n",
              "       'akun hilang top up masuk', 'kembali sih bintang gratis',\n",
              "       'bagus sih sih notif tulis aplikasi nya ganti bahasa indonesia notif nya tampil',\n",
              "       'aplikasi nya bagus cuman bahasa indonesia',\n",
              "       'akun sandi tulis salah showroom', 'aplikasi nya bagus fungsi',\n",
              "       'aplikasi bagus kurang pas buka srnya michie chatan balas',\n",
              "       'seru banget nonton langsung member jeket',\n",
              "       'nunggu si nurdana showroom kasih bintang', 'baru iya menginstal',\n",
              "       'bagus nonton sayang', 'aplikasi nya bagus nonton showroom',\n",
              "       'baru baru', 'puas', 'keren banget aplikasi nya',\n",
              "       'aplikasi tarik bagus suka',\n",
              "       'buat global version bayar pakai uang negara bahasa dalam aplikasi negara bingung bahasa jepang',\n",
              "       'anjing anjing i baru gilir baru buka', 'baru nambah gacorr',\n",
              "       'bagus cepat kirim notif langsung suka notif',\n",
              "       'bintang gratis nya diilangin lahh', 'sajah ko inih buka',\n",
              "       'bagus min usahain langsung nya grafik lumayan hd',\n",
              "       'bilang darimana pokok aplikasi baik gara gara nonton gita v terima kasih you much',\n",
              "       'baru dowload', 'ga minus sih pakai wfi pke dta',\n",
              "       'gara aplikasi lihat bidadari jkt',\n",
              "       'bintang idola jarang showroom',\n",
              "       'suka aplikasi nonton showroom idola lupa unduh iya',\n",
              "       'tolong ubah fitur kapitalis', 'muncul notifikasi member showroom',\n",
              "       'aplikasi sampah pakai wifi', 'bagus bos quu aplikasi nya',\n",
              "       'bagus lihat freya langsung', 'jadi lihat idola yee',\n",
              "       'ga login pakai mohon baik',\n",
              "       'login login si aplikasi pakai facebook pakai twitter hadeh',\n",
              "       'ga login fb gim login twitter aneh',\n",
              "       'bantu min terima kasih tani langsung member jkt', 'login',\n",
              "       'gadak bagus bahasa china',\n",
              "       'log masuk facebook x tolong kasih saran beritahu nya',\n",
              "       'ga masuk akun fb', 'login nya sih coba login tolong',\n",
              "       'masuk error melulu log masuk',\n",
              "       'aplikasi nya bagus wota wota jkt mohon pakai kartu tri bisain mengechat member jkt',\n",
              "       'tolong developer baik login facebook gagal',\n",
              "       'tolong ngk erti nya masuk sandi nya',\n",
              "       'min saran aplikasi nya tolong kasih vitur kick tonton saran kasi member showroom tonton nanyain member',\n",
              "       'suka nonton idola ku aplikasi', 'ga login coba ulang ulang',\n",
              "       'buka aplikasi showroom wifi aplikasi showroom buka wifi data seluler buka showroom',\n",
              "       'login sign up instruksi lanjut pas buka fb pas showroom nya daftar akun mohon baik aplikasi nya kali kali kali login sign up fb taut akun showroom uang akun',\n",
              "       'berkat aplikasi gwh lihat idola', 'tunggu fitur penuh screen',\n",
              "       'saran munculin notif nya tinggal showroom idola ku',\n",
              "       'showroom tani hidup warna', 'lumayan komen',\n",
              "       'bintang untung aplikasi kotor kayak bikin ga kuka ga niat bikin aplikasi bikin ku patah leher ga niat bikin aplikasi ga buka nick name',\n",
              "       'kasih bintang gedein layar nya tolong bikin gedein seru nonton nya',\n",
              "       'keren minus ga besarin layar tonton langsung bilang fokus layar karakter nya ga ngalangin',\n",
              "       'ga muncul notifnya disetting',\n",
              "       'aplikasi bagus banget aman kendala tingkat iya min',\n",
              "       'bagus bagus fitur bahasa indonesia',\n",
              "       'tolong baik aplikasi nya login',\n",
              "       'si wifi lancar masuk showroom your internet connection and try again',\n",
              "       'bilang showroom iya notif masuk ikut membernya tolong perbaikin notifikasi',\n",
              "       'unduh lihat adik freya jkt', 'verifikasi g masuk kntl',\n",
              "       'aplikasi nya bagus bug lag akuu',\n",
              "       'aplikasi bagus cuman kasih saran orang kasih hadiah kasih space orang tulis pesan idolnya idol baca pesan sang beri hadiah terima kasih',\n",
              "       'kasih bintang senang lihat idol freya nashifa jayawardana jkt freya langsung showroom paksa unistal aplikasi',\n",
              "       'aplikasi thololl verivikasi gagal',\n",
              "       'kadang suka nglag nonton tuh', 'bagus sih notifikasi kadang',\n",
              "       'suka jkt', 'aplikasi bagus lihat member jkt',\n",
              "       'senang mudah konsep keren',\n",
              "       'informasi pakai kartu verifikasi gagal saran pakai provider',\n",
              "       'wow wow bagu', 'suka aplikasi', 'terima kasih hadir amplikasi',\n",
              "       'terima kasih developer aplikasi langsung idola ku',\n",
              "       'cuih sistem login nya ampas banget coba kali twitter fb mental pas sinyal dianggep jelek dipake aplikasi normal normal cuih sistem login ampass ampas banding aplikasi sistem login nya',\n",
              "       'aplikasih bagus cocok orang gabut', 'paham bahasa jepang bingung',\n",
              "       'verifikasi no komen showroom jkt',\n",
              "       'tolong benar sistem verifikasi komen leluasa verifikasi error aplikasi',\n",
              "       'notif showroomnya tifak dinyalain notifnya',\n",
              "       'ga buka aplikasi nya', 'aplikasi bagus suka',\n",
              "       'bagus banget coma ganti bahasa bahasa indonesia',\n",
              "       'kecewa coment verifikasi sms verifikasi', 'bagus',\n",
              "       'komen sulit kartu normal g banget komen gara gara verivikasi sms kecewa',\n",
              "       'nomor cuman digit verif ga bisaaneh banget eh iya ga orang nomor seluler nya digit',\n",
              "       'bagus ohsi ku ci shani',\n",
              "       'aplikasi bagus tolong bahasa aplikasi tambah bahasa indonesia guna aplikasi mudah pakai aplikasi',\n",
              "       'aplikasi manfaat', 'keren asik',\n",
              "       'aplikasi bagus kalk suka tonton langsung memjkt',\n",
              "       'aplikasi bantu kembang',\n",
              "       'min tolong verifikasi nomor kartu tri iya min moga cepat proses iya min kartu tri verivikasi',\n",
              "       'min code verify nya nya kemarin nunggu ga sms',\n",
              "       'seh ikutin arah verifikasi nya benerin',\n",
              "       'tolong tambah bahasa indonesia nya iya',\n",
              "       'aplikasi bagus suka nonton showroomnya michiiy',\n",
              "       'fungsional bagus sayang bahasa indonesia',\n",
              "       'verifikasi sms susah mohon baik', 'moga bahasa indonesia nya',\n",
              "       'halo moga baca verif akun biar verif login nomor kartu nomor kartu tri pakai now playing kartu',\n",
              "       'aplikasi keren', 'bagus cuman pakai wifi pakai data tolong',\n",
              "       'verifikasi nomor telepon', 'abang ga muncul notif iya abang',\n",
              "       'asik berintaraksi idola seluler tertawa',\n",
              "       'kecewa sih pas log masuk suruh masuk id shoowroom id nya sesuai tutorial gagal bahasa nya susah erti tolong rubah tambah fitur bahasa indonesia nya terima kasih',\n",
              "       'bagus jeket',\n",
              "       'aplikasi bagus bantu aplikasi aplikasi showroom member jkt terima kasih',\n",
              "       'kasi bintang ko ga notif iya ikut', 'g login tolong nnyon',\n",
              "       'unduh sign up fitur pilih bahasa biar gampang ngertinya',\n",
              "       'aplikasi bagus mes nya grafik sih', 'hd banget showroom',\n",
              "       'min bug koneksi iya stuck tulis ulang wifi lncar',\n",
              "       'terima kasih berkat showroom bidadari',\n",
              "       'tolong tambah bahasa indonesia sadar fans indonesia tolong sedia bahasa indonesia terima kasih',\n",
              "       'notif nya muncul sih dongoo', 'suka muncul notif bikin kesel',\n",
              "       'knph ganti rom orang', 'pokok oshiku tu',\n",
              "       'aplikasi keren lihat idola ku bicara', 'cocok bagus',\n",
              "       'bagus pakai banget',\n",
              "       'ko ga registrasi nomor si kode nomor tetep ulang',\n",
              "       'bagus bett nonton langsung nya member jkt',\n",
              "       'bagus buka member jkt langsung jarang buka seluler buka seluler showroom',\n",
              "       'kecewa pas showroom id situ tulis huruf tulis huruf ga',\n",
              "       'notif member showroom ikut',\n",
              "       'showroom kadang notif nya ga muncul',\n",
              "       'terima kasih showroom lihat oshiku terima kasih',\n",
              "       'isi verifikasi failed to issue sms verification code mohon betul',\n",
              "       'layar hitam muat jenggot', 'bagus tonton streaming',\n",
              "       'login sesuai emel', 'login jaring lancar butuh wifi nasa login',\n",
              "       'vidio showroom suara lancar', 'min bikin ganti bahasa nya',\n",
              "       'bagus g notif jkt', 'aplikasi bagus suka isi cewek jjt',\n",
              "       'pakai wifi suka aplikasi lancar',\n",
              "       'deh ga verifikasi no seluler ko ngisinya tetep ga coba ulang kali ganti akun',\n",
              "       'sumpah aplikasi keren banget enak banget nonton showroom member jkt aplikasi gratis nonton langsung jktnya bayar enak nonton member gratis bintang cuman nonton cuman menit bintang pokok keren banget aplikasi mantap',\n",
              "       'keren bagus', 'ga muncul notif showroom favorit member',\n",
              "       'ga notipnya ikut', 'idola ku shorum',\n",
              "       'aplikasi nya bagus mantap cocok lihat langsung',\n",
              "       'verifikasi sms gagal', 'donlowd login login tolong',\n",
              "       'baik notifikasi nya iya min kadang muncul kadang engga',\n",
              "       'ikut ga notif', 'puas showroom nya jkt',\n",
              "       'unduh nonton showroom nya jkt',\n",
              "       'suka banget aplikasi nya nonton showroom idola',\n",
              "       'suka showroomm sana idola ku marsha jkt showroom sana showroom ilove you so muchh aldi taher',\n",
              "       'bagus si aplikasi nya login nya susah tllong baik bug nya guna data pas show rom kuranhi',\n",
              "       'ga pakai wifi',\n",
              "       'g daftar akun login nonton showroom marsha jeket tolong fi betul masuk sulit jujur kecewa g masuk tinggal langsung idola',\n",
              "       'kecewa verifikasi kode nya gagal pakai kartu tri smartfren tetep gagal tolong',\n",
              "       'wota wajib aplikasi ragu unduh',\n",
              "       'tolong tambah bahasa indonesia developer',\n",
              "       'login pakai fb pakai twitter masuk coba baik showroom nya',\n",
              "       'kasih bintang tolong bahasa mudah erti paham',\n",
              "       'banget langsung ga notifikasi tolong iya',\n",
              "       'bug masuk code biar komen', 'aplikasi keren banget',\n",
              "       'akun pas login ga',\n",
              "       'nonton youtube kualitas p lancar pakai showroom internet',\n",
              "       'kasih bintang idol suka showroom jkt',\n",
              "       'kasih bintang ga komen showroom idola ga no verif nya woi ikutin ga no verif ktl',\n",
              "       'tolong sedia bahasa indonesia inggris',\n",
              "       'kasih bintang pakai showroom aman aman buka room layar hitam muat jaring bagus aplikasi',\n",
              "       'kasih bintang e kadang suka notif tolong baik iya developer',\n",
              "       'bagus mint notifnya kadang kadang',\n",
              "       'suka bngt orang mngenal dunia idol suka aplikasi idol ge suka langsung',\n",
              "       'min comen si login kode sms nya kasih mmk',\n",
              "       'kecewa verifikasi gagal sesuai tutorial tolong baik bug verifikasi interaksi kolom komentar',\n",
              "       'bilang ga bagus lihat freya lambat suka bilang story ig langsung showroom',\n",
              "       'lihat idola ku langsung layar muat internet ku bagus jerman kakak',\n",
              "       'komen suruh verifikasi no seluler melulu',\n",
              "       'login iya sign up akun suruh sign up sih yng bikin robot bngt',\n",
              "       'si code smsnya ga muncul muncul', 'bug min tolong baru gg',\n",
              "       'gara gara aplikasi nikmat', 'showroom premium bayar google main',\n",
              "       'bagus banget aplikasi nya nonton showroom freya cinta',\n",
              "       'maybe tambah pilih bahasa aplikasi biar mudah erti terima kasih',\n",
              "       'verify sms nya error tolong baik gin ga komen showroom',\n",
              "       'bodoh verif kelar no telepon kodenye',\n",
              "       'mohon notifnya benerin kadang kadang',\n",
              "       'pakai twitter login nya tolong kembali login twitter',\n",
              "       'moga baru bahasa inggris indo iya',\n",
              "       'tingkat mudah bayar nonton theater jkt biar visa mastercard',\n",
              "       'verifikasi sms ga kirim',\n",
              "       'notif masuk langsung ku coba pasang ulang', 'ngk the baik pokok',\n",
              "       'gambar kadang sendat suara jalan notifikasi livestream',\n",
              "       'lihat freya gg sih aplikasi nya',\n",
              "       'bagus eh buka buka aplikasi lancar tertawa kocwk',\n",
              "       'unduh aplikasi lihat freya doang',\n",
              "       'aplikasi nya bagus lihat freya', 'bagus tingkat hd',\n",
              "       'aplikasi nya bagus tolong bahasa indonesia',\n",
              "       'suka aplikasi aplikasi idola langsung streaming',\n",
              "       'bagus interaksi langsung member jeketoy', 'notifikasi bug lambat',\n",
              "       'saran bahasa indonesia', 'iyaa aplikasi nya', 'aplikasi senang',\n",
              "       'overal bagus notifnya g muncul baru baik',\n",
              "       'aplikasi nya bagus tolong bahasa indonesia nya',\n",
              "       'keren bahasa indo', 'mantap jkt nya ketawa',\n",
              "       'tolong bahasa indonesia gitu', 'daftar gagal',\n",
              "       'keren sih aplikasi nya', 'aplikasi nya bagus banget lihat idola',\n",
              "       'log masuk pakai fb log masuk fb tingkat',\n",
              "       'tolong notifikasi nya baik baru pakai bahasa indonesia',\n",
              "       'platform streaming baik bahasa indonesia app publish global',\n",
              "       'jaring lancar jaring error teruss gatau avatar favorit nama idola',\n",
              "       'baru jaring bagus showroom nya buka aneh',\n",
              "       'bagus hibur tolong aplikasi pakai bahasa indonesia',\n",
              "       'aplikasi nya bagus bagus ditambahin fitur penuh screen kadang g enak nonton ditutupin give gede gede',\n",
              "       'habis tingkat ga buka error',\n",
              "       'aplikasi bagus dekat fans artis bahasa jepang ga langsung atur terjemah bahasa inggris',\n",
              "       'showroom id susah gagal sign up copot',\n",
              "       'bingung notif solusi tolong kasih baik ku ganti bintang',\n",
              "       'coba coba diwaro tagih terima kasih showroom',\n",
              "       'bagus sayang ig jaring bagus lumayan lancar nonton langsung',\n",
              "       'bagus aplikasi sayang atur bahasa indonesia',\n",
              "       'kadang error muncul gambar suara bahasa pilih',\n",
              "       'bagus aplikasi lihat idol fav langsung kurang cuman bahasa doang sih tengah jepang penuh inggris',\n",
              "       'aplikasi bagus sulit bahasa',\n",
              "       'aplikasi nya bagus banget klu ndk daftarin aku coba akun twiter daftar showroom nya pakai twiter moga bantu',\n",
              "       'bagaimna bb b anti bahasa korea ganti bahasa indonesia kah kasih',\n",
              "       'lumayan bagus aplikasi lepas rindu ku oshii sayang ku abe nanami last idol',\n",
              "       'bagus sulit bahasa', 'aplikasi bagus keren fasilitas',\n",
              "       'terima kasih aplikasi nya komunikasi idola kota jkt tingkat aplikasi x',\n",
              "       'fiony cantik fiony lucu fiony gemas ashel cakep',\n",
              "       'kesal aplikasi sedia fitur mati putar otomatis aplikasi putar video henti asal orang ikut',\n",
              "       'aplikasi seru ketemu idol jkt top upnya murah murah ketemu idol jepang erti bahasa wkwkwk',\n",
              "       'tingkat kualitas aplikasi gemar',\n",
              "       'pikir showroom gedung jual beli mobil motor showroom kasih bintang beneran bagus kasih tambah bintang',\n",
              "       'app nya bagus ditambahin bahasa indonesia bahasa inggris patah bahasa jepang',\n",
              "       'direspon pribadi idola offcamnya bobrok kocak kadang serius fans guna sumbang bintang bintang',\n",
              "       'terima kasih lihat idola beli coin mudah',\n",
              "       'bagus tambah bahasa indonesia nya', 'bagus pilih bahasa',\n",
              "       'bagus pol unduh cmn lihat member jkt he ga erti bahasa bahasa indonesia nya ngab',\n",
              "       'pas ngetik bahasa indo kolom komentar deteksi bahasa jepangnya biar si idol baca komennya paham tulis',\n",
              "       'wajib unduh mngenal member ga jkt member akb group smbil blajar bahasa jepang otodidak informasi setlis baru',\n",
              "       'mhank hadiah spesial monyet pegasus ga filter aliennya balikin iya kasih bintang tambahih bintang',\n",
              "       'bagus ajar bahasa jepang lihat idol jepang',\n",
              "       'unduh showroom unduh aplikasi dedek dedek gemesh and than keluar uang beli tower pln sekian terima kasih',\n",
              "       'terima kasih tonton oshique direspon adzana shaliha ketawa kenal member bawel',\n",
              "       'tolong ting bahasa nya banyak bahasa indonesia inggris',\n",
              "       'gabung showroom alhamdullilah tagih ajar bahasa jepang kenal asli jepang terima kasih hubung komunikasi budaya indonesian japan',\n",
              "       'this a bagus aplapplication tolong banget atur language nya cantum bahasa indonesia',\n",
              "       'terima kasih mama mengijinkan unduh aplikasi showroom nilai matematika bagus biar top up pakai uang mama terima kasih garena aplikasi aplikasi semangat ajar matematika mama top up terima kasih garena',\n",
              "       'temu kurang top',\n",
              "       'mantap ganti langsung ig idol langsung berkat aplikasi',\n",
              "       'mantap showroom aplikasi nama member ketemu',\n",
              "       'terima kasih berkat aplikasi idola ye direspon terima kasih',\n",
              "       'aplikasi keren hibur lihat langsung osha idola terima kasih you showroom',\n",
              "       'mohon bantu aplikasi setel bahasa maaf aplikasi cinta korea nama menang mohon maaf omong',\n",
              "       'mantap sih ngomong direspon gampang sih modal gratis dibwaro tertawa senang banget pokok aplikasi rekomen banget deh',\n",
              "       'asa kasih rating geh gppalah oke unduh aplikasi iya idola cinta tertawa oshinya mantap bngt ga tuh lihat langsung ngomong idola tenang ga',\n",
              "       'mantap beli hadiah nya ga erti bahasa jepang',\n",
              "       'inti bagus fiturnya mantap lihat idola',\n",
              "       'bang fitur translate ditambahin bang konten sisa bahasa jepang',\n",
              "       'bagus lihat my idola langsung showroom nnya ga orang indo aplikasi showroom khusus orang jepang idol artis jepang'],\n",
              "      dtype='<U214')"
            ]
          },
          "metadata": {},
          "execution_count": 108
        }
      ]
    },
    {
      "cell_type": "markdown",
      "source": [
        "# Model Training"
      ],
      "metadata": {
        "id": "OiBknEGwEUWC"
      }
    },
    {
      "cell_type": "code",
      "source": [
        "from tensorflow.keras.preprocessing import sequence\n",
        "from tensorflow.keras.preprocessing.text import Tokenizer\n",
        "from tensorflow.keras.models import Sequential\n",
        "from tensorflow.keras.layers import Dense, LSTM\n",
        "from tensorflow.keras.layers import Embedding\n",
        "from tensorflow.keras.utils import pad_sequences\n",
        "from tensorflow.keras.utils import to_categorical"
      ],
      "metadata": {
        "id": "Nykvxq-DC9fo"
      },
      "execution_count": null,
      "outputs": []
    },
    {
      "cell_type": "code",
      "source": [
        "# Create a word-to-number mapping\n",
        "tokenizer = Tokenizer()\n",
        "tokenizer.fit_on_texts(all_cleaned_texts)"
      ],
      "metadata": {
        "id": "30rBEugZC6WA"
      },
      "execution_count": null,
      "outputs": []
    },
    {
      "cell_type": "code",
      "source": [
        "# Encode semua kata menjadi bilangan/angka\n",
        "all_encoded_texts = tokenizer.texts_to_sequences(all_cleaned_texts)\n",
        "all_encoded_texts = np.array(all_encoded_texts)"
      ],
      "metadata": {
        "colab": {
          "base_uri": "https://localhost:8080/"
        },
        "id": "goS3TWGeDQi-",
        "outputId": "94dd8334-c357-4727-ad3e-23f46cd06f8c"
      },
      "execution_count": null,
      "outputs": [
        {
          "output_type": "stream",
          "name": "stderr",
          "text": [
            "<ipython-input-110-b77e48f6f866>:3: VisibleDeprecationWarning: Creating an ndarray from ragged nested sequences (which is a list-or-tuple of lists-or-tuples-or ndarrays with different lengths or shapes) is deprecated. If you meant to do this, you must specify 'dtype=object' when creating the ndarray.\n",
            "  all_encoded_texts = np.array(all_encoded_texts)\n"
          ]
        }
      ]
    },
    {
      "cell_type": "code",
      "source": [
        "# Mengecek panjangnya file\n",
        "for i in range(300):\n",
        "  print('length of file', i, ':', len(all_encoded_texts[i]))"
      ],
      "metadata": {
        "colab": {
          "base_uri": "https://localhost:8080/"
        },
        "id": "Fjd8XRD1DSDB",
        "outputId": "bc10f268-19ca-471a-ca07-846c5c19f863"
      },
      "execution_count": null,
      "outputs": [
        {
          "output_type": "stream",
          "name": "stdout",
          "text": [
            "length of file 0 : 3\n",
            "length of file 1 : 7\n",
            "length of file 2 : 9\n",
            "length of file 3 : 5\n",
            "length of file 4 : 6\n",
            "length of file 5 : 3\n",
            "length of file 6 : 5\n",
            "length of file 7 : 6\n",
            "length of file 8 : 33\n",
            "length of file 9 : 4\n",
            "length of file 10 : 8\n",
            "length of file 11 : 8\n",
            "length of file 12 : 5\n",
            "length of file 13 : 7\n",
            "length of file 14 : 4\n",
            "length of file 15 : 5\n",
            "length of file 16 : 5\n",
            "length of file 17 : 4\n",
            "length of file 18 : 13\n",
            "length of file 19 : 6\n",
            "length of file 20 : 5\n",
            "length of file 21 : 4\n",
            "length of file 22 : 9\n",
            "length of file 23 : 6\n",
            "length of file 24 : 6\n",
            "length of file 25 : 3\n",
            "length of file 26 : 3\n",
            "length of file 27 : 5\n",
            "length of file 28 : 2\n",
            "length of file 29 : 1\n",
            "length of file 30 : 4\n",
            "length of file 31 : 4\n",
            "length of file 32 : 14\n",
            "length of file 33 : 7\n",
            "length of file 34 : 3\n",
            "length of file 35 : 7\n",
            "length of file 36 : 5\n",
            "length of file 37 : 4\n",
            "length of file 38 : 8\n",
            "length of file 39 : 14\n",
            "length of file 40 : 2\n",
            "length of file 41 : 7\n",
            "length of file 42 : 5\n",
            "length of file 43 : 4\n",
            "length of file 44 : 8\n",
            "length of file 45 : 4\n",
            "length of file 46 : 4\n",
            "length of file 47 : 4\n",
            "length of file 48 : 5\n",
            "length of file 49 : 4\n",
            "length of file 50 : 4\n",
            "length of file 51 : 5\n",
            "length of file 52 : 9\n",
            "length of file 53 : 7\n",
            "length of file 54 : 8\n",
            "length of file 55 : 1\n",
            "length of file 56 : 4\n",
            "length of file 57 : 9\n",
            "length of file 58 : 4\n",
            "length of file 59 : 6\n",
            "length of file 60 : 5\n",
            "length of file 61 : 14\n",
            "length of file 62 : 6\n",
            "length of file 63 : 7\n",
            "length of file 64 : 16\n",
            "length of file 65 : 5\n",
            "length of file 66 : 5\n",
            "length of file 67 : 12\n",
            "length of file 68 : 29\n",
            "length of file 69 : 5\n",
            "length of file 70 : 4\n",
            "length of file 71 : 8\n",
            "length of file 72 : 4\n",
            "length of file 73 : 2\n",
            "length of file 74 : 24\n",
            "length of file 75 : 11\n",
            "length of file 76 : 14\n",
            "length of file 77 : 4\n",
            "length of file 78 : 8\n",
            "length of file 79 : 5\n",
            "length of file 80 : 5\n",
            "length of file 81 : 11\n",
            "length of file 82 : 10\n",
            "length of file 83 : 5\n",
            "length of file 84 : 4\n",
            "length of file 85 : 6\n",
            "length of file 86 : 22\n",
            "length of file 87 : 15\n",
            "length of file 88 : 4\n",
            "length of file 89 : 5\n",
            "length of file 90 : 4\n",
            "length of file 91 : 2\n",
            "length of file 92 : 5\n",
            "length of file 93 : 4\n",
            "length of file 94 : 8\n",
            "length of file 95 : 3\n",
            "length of file 96 : 2\n",
            "length of file 97 : 4\n",
            "length of file 98 : 7\n",
            "length of file 99 : 29\n",
            "length of file 100 : 5\n",
            "length of file 101 : 4\n",
            "length of file 102 : 5\n",
            "length of file 103 : 9\n",
            "length of file 104 : 5\n",
            "length of file 105 : 4\n",
            "length of file 106 : 3\n",
            "length of file 107 : 7\n",
            "length of file 108 : 5\n",
            "length of file 109 : 1\n",
            "length of file 110 : 12\n",
            "length of file 111 : 15\n",
            "length of file 112 : 5\n",
            "length of file 113 : 13\n",
            "length of file 114 : 2\n",
            "length of file 115 : 2\n",
            "length of file 116 : 7\n",
            "length of file 117 : 3\n",
            "length of file 118 : 16\n",
            "length of file 119 : 9\n",
            "length of file 120 : 6\n",
            "length of file 121 : 6\n",
            "length of file 122 : 6\n",
            "length of file 123 : 5\n",
            "length of file 124 : 5\n",
            "length of file 125 : 4\n",
            "length of file 126 : 17\n",
            "length of file 127 : 2\n",
            "length of file 128 : 7\n",
            "length of file 129 : 3\n",
            "length of file 130 : 6\n",
            "length of file 131 : 5\n",
            "length of file 132 : 27\n",
            "length of file 133 : 2\n",
            "length of file 134 : 10\n",
            "length of file 135 : 7\n",
            "length of file 136 : 4\n",
            "length of file 137 : 9\n",
            "length of file 138 : 6\n",
            "length of file 139 : 3\n",
            "length of file 140 : 9\n",
            "length of file 141 : 5\n",
            "length of file 142 : 13\n",
            "length of file 143 : 5\n",
            "length of file 144 : 5\n",
            "length of file 145 : 4\n",
            "length of file 146 : 3\n",
            "length of file 147 : 6\n",
            "length of file 148 : 2\n",
            "length of file 149 : 3\n",
            "length of file 150 : 9\n",
            "length of file 151 : 7\n",
            "length of file 152 : 11\n",
            "length of file 153 : 10\n",
            "length of file 154 : 4\n",
            "length of file 155 : 6\n",
            "length of file 156 : 7\n",
            "length of file 157 : 10\n",
            "length of file 158 : 4\n",
            "length of file 159 : 3\n",
            "length of file 160 : 3\n",
            "length of file 161 : 7\n",
            "length of file 162 : 4\n",
            "length of file 163 : 5\n",
            "length of file 164 : 4\n",
            "length of file 165 : 6\n",
            "length of file 166 : 5\n",
            "length of file 167 : 14\n",
            "length of file 168 : 31\n",
            "length of file 169 : 2\n",
            "length of file 170 : 6\n",
            "length of file 171 : 3\n",
            "length of file 172 : 3\n",
            "length of file 173 : 7\n",
            "length of file 174 : 3\n",
            "length of file 175 : 4\n",
            "length of file 176 : 9\n",
            "length of file 177 : 3\n",
            "length of file 178 : 4\n",
            "length of file 179 : 5\n",
            "length of file 180 : 7\n",
            "length of file 181 : 16\n",
            "length of file 182 : 17\n",
            "length of file 183 : 3\n",
            "length of file 184 : 20\n",
            "length of file 185 : 12\n",
            "length of file 186 : 5\n",
            "length of file 187 : 5\n",
            "length of file 188 : 10\n",
            "length of file 189 : 7\n",
            "length of file 190 : 6\n",
            "length of file 191 : 5\n",
            "length of file 192 : 3\n",
            "length of file 193 : 4\n",
            "length of file 194 : 8\n",
            "length of file 195 : 6\n",
            "length of file 196 : 16\n",
            "length of file 197 : 5\n",
            "length of file 198 : 14\n",
            "length of file 199 : 10\n",
            "length of file 200 : 5\n",
            "length of file 201 : 12\n",
            "length of file 202 : 9\n",
            "length of file 203 : 12\n",
            "length of file 204 : 12\n",
            "length of file 205 : 11\n",
            "length of file 206 : 6\n",
            "length of file 207 : 13\n",
            "length of file 208 : 6\n",
            "length of file 209 : 5\n",
            "length of file 210 : 4\n",
            "length of file 211 : 5\n",
            "length of file 212 : 8\n",
            "length of file 213 : 10\n",
            "length of file 214 : 10\n",
            "length of file 215 : 6\n",
            "length of file 216 : 5\n",
            "length of file 217 : 8\n",
            "length of file 218 : 6\n",
            "length of file 219 : 9\n",
            "length of file 220 : 4\n",
            "length of file 221 : 7\n",
            "length of file 222 : 4\n",
            "length of file 223 : 7\n",
            "length of file 224 : 6\n",
            "length of file 225 : 8\n",
            "length of file 226 : 5\n",
            "length of file 227 : 5\n",
            "length of file 228 : 3\n",
            "length of file 229 : 6\n",
            "length of file 230 : 6\n",
            "length of file 231 : 5\n",
            "length of file 232 : 3\n",
            "length of file 233 : 3\n",
            "length of file 234 : 3\n",
            "length of file 235 : 2\n",
            "length of file 236 : 7\n",
            "length of file 237 : 7\n",
            "length of file 238 : 3\n",
            "length of file 239 : 4\n",
            "length of file 240 : 4\n",
            "length of file 241 : 2\n",
            "length of file 242 : 4\n",
            "length of file 243 : 6\n",
            "length of file 244 : 8\n",
            "length of file 245 : 8\n",
            "length of file 246 : 8\n",
            "length of file 247 : 10\n",
            "length of file 248 : 7\n",
            "length of file 249 : 7\n",
            "length of file 250 : 16\n",
            "length of file 251 : 5\n",
            "length of file 252 : 13\n",
            "length of file 253 : 7\n",
            "length of file 254 : 9\n",
            "length of file 255 : 7\n",
            "length of file 256 : 9\n",
            "length of file 257 : 6\n",
            "length of file 258 : 7\n",
            "length of file 259 : 15\n",
            "length of file 260 : 4\n",
            "length of file 261 : 18\n",
            "length of file 262 : 11\n",
            "length of file 263 : 13\n",
            "length of file 264 : 3\n",
            "length of file 265 : 4\n",
            "length of file 266 : 11\n",
            "length of file 267 : 8\n",
            "length of file 268 : 14\n",
            "length of file 269 : 15\n",
            "length of file 270 : 4\n",
            "length of file 271 : 15\n",
            "length of file 272 : 11\n",
            "length of file 273 : 13\n",
            "length of file 274 : 7\n",
            "length of file 275 : 5\n",
            "length of file 276 : 3\n",
            "length of file 277 : 15\n",
            "length of file 278 : 16\n",
            "length of file 279 : 17\n",
            "length of file 280 : 14\n",
            "length of file 281 : 7\n",
            "length of file 282 : 17\n",
            "length of file 283 : 11\n",
            "length of file 284 : 8\n",
            "length of file 285 : 17\n",
            "length of file 286 : 12\n",
            "length of file 287 : 30\n",
            "length of file 288 : 3\n",
            "length of file 289 : 8\n",
            "length of file 290 : 6\n",
            "length of file 291 : 9\n",
            "length of file 292 : 11\n",
            "length of file 293 : 14\n",
            "length of file 294 : 17\n",
            "length of file 295 : 23\n",
            "length of file 296 : 8\n",
            "length of file 297 : 6\n",
            "length of file 298 : 9\n",
            "length of file 299 : 18\n"
          ]
        }
      ]
    },
    {
      "cell_type": "code",
      "source": [
        "# Menyamakan panjang file\n",
        "all_encoded_texts = pad_sequences(all_encoded_texts, maxlen = 50)"
      ],
      "metadata": {
        "id": "v3vMwyuzDvbE"
      },
      "execution_count": null,
      "outputs": []
    },
    {
      "cell_type": "code",
      "source": [
        "# Menghitung semua label\n",
        "total_labels = len(df_review['Sentimen'].unique())\n",
        "print(f'Total labels: {total_labels}')"
      ],
      "metadata": {
        "colab": {
          "base_uri": "https://localhost:8080/"
        },
        "id": "N4BMV3ulDa1L",
        "outputId": "09a92e53-e366-4be3-ab57-9cafe296385e"
      },
      "execution_count": null,
      "outputs": [
        {
          "output_type": "stream",
          "name": "stdout",
          "text": [
            "Total labels: 3\n"
          ]
        }
      ]
    },
    {
      "cell_type": "code",
      "source": [
        "# Mengubah label menjadi format array\n",
        "all_labels = np.array(df_review['Sentimen'])"
      ],
      "metadata": {
        "id": "BrdQV9WDD6po"
      },
      "execution_count": null,
      "outputs": []
    },
    {
      "cell_type": "code",
      "source": [
        "# Membuat nex axis\n",
        "all_labels = all_labels[:, np.newaxis]"
      ],
      "metadata": {
        "id": "RuL_3xdwEAFR"
      },
      "execution_count": null,
      "outputs": []
    },
    {
      "cell_type": "code",
      "source": [
        "from sklearn.preprocessing import OneHotEncoder\n",
        "from sklearn.model_selection import train_test_split\n",
        "from sklearn.metrics import confusion_matrix, f1_score, classification_report"
      ],
      "metadata": {
        "id": "bAQdydfOEOkp"
      },
      "execution_count": null,
      "outputs": []
    },
    {
      "cell_type": "code",
      "source": [
        "# Mengubah label menjadi data numerik menggunakan one-hot encoder\n",
        "one_hot_encoder = OneHotEncoder(sparse = False)\n",
        "all_labels = one_hot_encoder.fit_transform(all_labels)"
      ],
      "metadata": {
        "colab": {
          "base_uri": "https://localhost:8080/"
        },
        "id": "Ib8EMWIcEIrg",
        "outputId": "4aea1f82-f9d9-4ae8-f37e-b17be284614f"
      },
      "execution_count": null,
      "outputs": [
        {
          "output_type": "stream",
          "name": "stderr",
          "text": [
            "/usr/local/lib/python3.10/dist-packages/sklearn/preprocessing/_encoders.py:868: FutureWarning: `sparse` was renamed to `sparse_output` in version 1.2 and will be removed in 1.4. `sparse_output` is ignored unless you leave `sparse` to its default value.\n",
            "  warnings.warn(\n"
          ]
        }
      ]
    },
    {
      "cell_type": "code",
      "source": [
        "# Membagi data untuk train dan test\n",
        "X_train,X_test,y_train,y_test = train_test_split(all_encoded_texts, all_labels, test_size=0.3, random_state=10, stratify = all_labels)"
      ],
      "metadata": {
        "id": "mDvJhPkeEQR9"
      },
      "execution_count": null,
      "outputs": []
    },
    {
      "cell_type": "code",
      "source": [
        "# Membangun NN\n",
        "model = Sequential()\n",
        "model.add(Embedding(input_dim = len(tokenizer.word_index) + 1, output_dim = 64, input_length = 50))\n",
        "model.add(LSTM(100))\n",
        "model.add(Dense(total_labels,activation = 'sigmoid'))\n",
        "model.compile(loss = 'categorical_crossentropy', optimizer = 'adam', metrics = ['accuracy'])"
      ],
      "metadata": {
        "id": "xBpocdYAEj7o"
      },
      "execution_count": null,
      "outputs": []
    },
    {
      "cell_type": "code",
      "source": [
        "# Melatih model\n",
        "history = model.fit(X_train,y_train, epochs=10, batch_size=64,validation_data=(X_test,y_test))"
      ],
      "metadata": {
        "colab": {
          "base_uri": "https://localhost:8080/"
        },
        "id": "Y0JbLH8cEnax",
        "outputId": "437b0ec5-1e9a-4870-d5de-0be51ad32be6"
      },
      "execution_count": null,
      "outputs": [
        {
          "output_type": "stream",
          "name": "stdout",
          "text": [
            "Epoch 1/10\n",
            "4/4 [==============================] - 4s 293ms/step - loss: 1.0918 - accuracy: 0.3571 - val_loss: 1.0640 - val_accuracy: 0.4889\n",
            "Epoch 2/10\n",
            "4/4 [==============================] - 0s 100ms/step - loss: 1.0391 - accuracy: 0.5048 - val_loss: 0.9940 - val_accuracy: 0.5000\n",
            "Epoch 3/10\n",
            "4/4 [==============================] - 0s 96ms/step - loss: 0.9697 - accuracy: 0.5000 - val_loss: 0.9640 - val_accuracy: 0.5000\n",
            "Epoch 4/10\n",
            "4/4 [==============================] - 0s 86ms/step - loss: 0.9340 - accuracy: 0.5000 - val_loss: 0.9555 - val_accuracy: 0.5000\n",
            "Epoch 5/10\n",
            "4/4 [==============================] - 1s 183ms/step - loss: 0.9238 - accuracy: 0.5000 - val_loss: 0.9447 - val_accuracy: 0.5000\n",
            "Epoch 6/10\n",
            "4/4 [==============================] - 1s 160ms/step - loss: 0.9044 - accuracy: 0.5000 - val_loss: 0.9385 - val_accuracy: 0.5000\n",
            "Epoch 7/10\n",
            "4/4 [==============================] - 1s 185ms/step - loss: 0.8796 - accuracy: 0.5000 - val_loss: 0.9204 - val_accuracy: 0.5000\n",
            "Epoch 8/10\n",
            "4/4 [==============================] - 1s 186ms/step - loss: 0.8430 - accuracy: 0.5476 - val_loss: 0.9018 - val_accuracy: 0.5444\n",
            "Epoch 9/10\n",
            "4/4 [==============================] - 1s 165ms/step - loss: 0.8049 - accuracy: 0.6143 - val_loss: 0.8755 - val_accuracy: 0.6444\n",
            "Epoch 10/10\n",
            "4/4 [==============================] - 1s 155ms/step - loss: 0.7415 - accuracy: 0.7048 - val_loss: 0.8429 - val_accuracy: 0.7222\n"
          ]
        }
      ]
    },
    {
      "cell_type": "code",
      "source": [
        "plt.figure(figsize=(9,7))\n",
        "plt.title('Accuracy score')\n",
        "plt.plot(history.history['accuracy'])\n",
        "plt.plot(history.history['val_accuracy'])\n",
        "plt.legend(['accuracy','val_accuracy'])\n",
        "plt.show()"
      ],
      "metadata": {
        "colab": {
          "base_uri": "https://localhost:8080/",
          "height": 622
        },
        "id": "ajSQrKKYFoCj",
        "outputId": "043a11cf-9f22-44ef-9db6-210f7a1d8d97"
      },
      "execution_count": null,
      "outputs": [
        {
          "output_type": "display_data",
          "data": {
            "text/plain": [
              "<Figure size 900x700 with 1 Axes>"
            ],
            "image/png": "[encoded data removed]"
          },
          "metadata": {}
        }
      ]
    },
    {
      "cell_type": "code",
      "source": [
        "plt.figure(figsize=(9,7))\n",
        "plt.title('Loss value')\n",
        "plt.plot(history.history['loss'])\n",
        "plt.plot(history.history['val_loss'])\n",
        "plt.legend(['loss','val_loss'])\n",
        "plt.show()"
      ],
      "metadata": {
        "colab": {
          "base_uri": "https://localhost:8080/",
          "height": 622
        },
        "id": "pD7S5gAzF3sB",
        "outputId": "6bce3097-0de4-4186-e518-803cb57c6a7a"
      },
      "execution_count": null,
      "outputs": [
        {
          "output_type": "display_data",
          "data": {
            "text/plain": [
              "<Figure size 900x700 with 1 Axes>"
            ],
            "image/png": "[encoded data removed]"
          },
          "metadata": {}
        }
      ]
    },
    {
      "cell_type": "code",
      "source": [
        "# Menyimpan model\n",
        "import pickle\n",
        "pickle.dump(model, open('model.pickle', 'wb'))"
      ],
      "metadata": {
        "id": "2VBXXnrvGa1C"
      },
      "execution_count": null,
      "outputs": []
    },
    {
      "cell_type": "markdown",
      "source": [
        "# Model Evaluation"
      ],
      "metadata": {
        "id": "5JfsjfglGf8E"
      }
    },
    {
      "cell_type": "code",
      "source": [
        "predictions = model.predict(X_test)\n",
        "predictions_evaluate = np.argmax(predictions, axis=1)"
      ],
      "metadata": {
        "colab": {
          "base_uri": "https://localhost:8080/"
        },
        "id": "sIpxfTJzGeru",
        "outputId": "9914368a-158a-4a1d-d899-1d8f38f76756"
      },
      "execution_count": null,
      "outputs": [
        {
          "output_type": "stream",
          "name": "stdout",
          "text": [
            "3/3 [==============================] - 0s 15ms/step\n"
          ]
        }
      ]
    },
    {
      "cell_type": "code",
      "source": [
        "# Mengubah y_test (label sebenarnya) dari one-hot format\n",
        "y_test_evaluate = np.argmax(y_test, axis = 1)"
      ],
      "metadata": {
        "id": "8oPWIK35Gjui"
      },
      "execution_count": null,
      "outputs": []
    },
    {
      "cell_type": "code",
      "source": [
        "target_names = [target_name.split('_')[1] for target_name in one_hot_encoder.get_feature_names_out()]\n",
        "print(classification_report(y_test_evaluate, predictions_evaluate, target_names = target_names))\n",
        "print('total weight F1 Score:', f1_score(y_test_evaluate, predictions_evaluate, average='weighted'))"
      ],
      "metadata": {
        "colab": {
          "base_uri": "https://localhost:8080/"
        },
        "id": "4haSx3kEGp63",
        "outputId": "d0050cec-9d55-47df-8d87-8c912259ea33"
      },
      "execution_count": null,
      "outputs": [
        {
          "output_type": "stream",
          "name": "stdout",
          "text": [
            "              precision    recall  f1-score   support\n",
            "\n",
            "          -1       0.72      0.76      0.74        34\n",
            "           0       0.00      0.00      0.00        11\n",
            "           1       0.72      0.87      0.79        45\n",
            "\n",
            "    accuracy                           0.72        90\n",
            "   macro avg       0.48      0.54      0.51        90\n",
            "weighted avg       0.63      0.72      0.67        90\n",
            "\n",
            "total weight F1 Score: 0.6745743145743144\n"
          ]
        },
        {
          "output_type": "stream",
          "name": "stderr",
          "text": [
            "/usr/local/lib/python3.10/dist-packages/sklearn/metrics/_classification.py:1344: UndefinedMetricWarning: Precision and F-score are ill-defined and being set to 0.0 in labels with no predicted samples. Use `zero_division` parameter to control this behavior.\n",
            "  _warn_prf(average, modifier, msg_start, len(result))\n",
            "/usr/local/lib/python3.10/dist-packages/sklearn/metrics/_classification.py:1344: UndefinedMetricWarning: Precision and F-score are ill-defined and being set to 0.0 in labels with no predicted samples. Use `zero_division` parameter to control this behavior.\n",
            "  _warn_prf(average, modifier, msg_start, len(result))\n",
            "/usr/local/lib/python3.10/dist-packages/sklearn/metrics/_classification.py:1344: UndefinedMetricWarning: Precision and F-score are ill-defined and being set to 0.0 in labels with no predicted samples. Use `zero_division` parameter to control this behavior.\n",
            "  _warn_prf(average, modifier, msg_start, len(result))\n"
          ]
        }
      ]
    },
    {
      "cell_type": "markdown",
      "source": [
        "# Test"
      ],
      "metadata": {
        "id": "4YG9SEl1G3YD"
      }
    },
    {
      "cell_type": "code",
      "source": [
        "strings_to_predict = [\n",
        "    'Kenapa gk bisa login padahal udh sesuai petunjuk, password nya bnr tpi mlh salah sih gmn 👽',\n",
        "    'Gabisa login sama sign up padahal udah ada instruksi lanjutkan pas dibuka di fb tapi pas di showroom nya belum kedaftar akunnya mohon diperbaiki lagi apk nya karena kasus ini bukan yang pertama kali tapi sudah berkali kali,ini masalahnya gabisa login dan sign up padahal di fb sudah tertaut akunnya tapi di showroom gaada akunnya',\n",
        "    'Aplikasi nya bagus dan berfungsi dengan baik',\n",
        "    'Bagus,mungkin performanya di tingkat tin dikit biar tambah hd🗿',\n",
        "]"
      ],
      "metadata": {
        "id": "DuKQUNkT9NTY"
      },
      "execution_count": null,
      "outputs": []
    },
    {
      "cell_type": "code",
      "source": [
        "# Inisialisasi list untuk menyimpan hasil prediksi sentimen\n",
        "predicted_sentiments = []"
      ],
      "metadata": {
        "id": "NTorAKJeZQx_"
      },
      "execution_count": null,
      "outputs": []
    },
    {
      "cell_type": "code",
      "source": [
        "# Melakukan prediksi untuk setiap string dalam list\n",
        "for string in strings_to_predict:\n",
        "    # Melakukan text preprocessing untuk data baru\n",
        "    cleaned_string = clean(string)\n",
        "    # Mengkodekan string yang telah dibersihkan menjadi urutan numerik\n",
        "    encoded_string = tokenizer.texts_to_sequences([cleaned_string])\n",
        "    encoded_string = sequence.pad_sequences(encoded_string, maxlen=50)\n",
        "    # Melakukan prediksi sentimen menggunakan model\n",
        "    string_predict = model.predict(encoded_string)\n",
        "    # Mengonversi hasil prediksi menjadi label sentimen\n",
        "    predicted_sentiment = str(one_hot_encoder.inverse_transform(string_predict).item())\n",
        "    # Menyimpan label sentimen prediksi ke dalam daftar predicted_sentiments\n",
        "    predicted_sentiments.append(predicted_sentiment)"
      ],
      "metadata": {
        "colab": {
          "base_uri": "https://localhost:8080/"
        },
        "id": "nOp9jQuiEZdu",
        "outputId": "1288a13e-1103-4fb7-e724-9115048b8a5e"
      },
      "execution_count": null,
      "outputs": [
        {
          "output_type": "stream",
          "name": "stdout",
          "text": [
            "1/1 [==============================] - 0s 36ms/step\n",
            "1/1 [==============================] - 0s 36ms/step\n",
            "1/1 [==============================] - 0s 43ms/step\n",
            "1/1 [==============================] - 0s 38ms/step\n"
          ]
        }
      ]
    },
    {
      "cell_type": "code",
      "source": [
        "# Menampilkan hasil prediksi\n",
        "for i, string in enumerate(strings_to_predict):\n",
        "    print(f'Data {i + 1}: {string}')\n",
        "    print(f'Predicted Sentiment: {predicted_sentiments[i]}\\n')"
      ],
      "metadata": {
        "colab": {
          "base_uri": "https://localhost:8080/"
        },
        "id": "r2HD_2VWEbou",
        "outputId": "c9e25c39-c1f2-4f0f-8653-f75fef94b68d"
      },
      "execution_count": null,
      "outputs": [
        {
          "output_type": "stream",
          "name": "stdout",
          "text": [
            "Data 1: Kenapa gk bisa login padahal udh sesuai petunjuk, password nya bnr tpi mlh salah sih gmn 👽\n",
            "Predicted Sentiment: -1\n",
            "\n",
            "Data 2: Gabisa login sama sign up padahal udah ada instruksi lanjutkan pas dibuka di fb tapi pas di showroom nya belum kedaftar akunnya mohon diperbaiki lagi apk nya karena kasus ini bukan yang pertama kali tapi sudah berkali kali,ini masalahnya gabisa login dan sign up padahal di fb sudah tertaut akunnya tapi di showroom gaada akunnya\n",
            "Predicted Sentiment: -1\n",
            "\n",
            "Data 3: Aplikasi nya bagus dan berfungsi dengan baik\n",
            "Predicted Sentiment: 1\n",
            "\n",
            "Data 4: Bagus,mungkin performanya di tingkat tin dikit biar tambah hd🗿\n",
            "Predicted Sentiment: 1\n",
            "\n"
          ]
        }
      ]
    }
  ]
}